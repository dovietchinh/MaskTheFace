{
 "metadata": {
  "language_info": {
   "codemirror_mode": {
    "name": "ipython",
    "version": 3
   },
   "file_extension": ".py",
   "mimetype": "text/x-python",
   "name": "python",
   "nbconvert_exporter": "python",
   "pygments_lexer": "ipython3",
   "version": "3.8.10"
  },
  "orig_nbformat": 4,
  "kernelspec": {
   "name": "python3",
   "display_name": "Python 3.8.10 64-bit ('chinhdv2': conda)"
  },
  "interpreter": {
   "hash": "ee791e8092fbf46c2fa336664ae3ab5481010ace928fb5051bafcf0d922248bd"
  }
 },
 "nbformat": 4,
 "nbformat_minor": 2,
 "cells": [
  {
   "cell_type": "code",
   "execution_count": 1,
   "source": [
    "import dlib\n",
    "import cv2 \n",
    "path = 'chinh.jpg'\n",
    "#path = '3.jpg'\n",
    "img2= cv2.imread(path, cv2.IMREAD_COLOR)\n",
    "img = img2.copy()\n",
    "#location = detector(img,2)"
   ],
   "outputs": [],
   "metadata": {}
  },
  {
   "cell_type": "code",
   "execution_count": 2,
   "source": [
    "detector=dlib.get_frontal_face_detector()\n",
    "predictor = dlib.shape_predictor('dlib_models/shape_predictor_68_face_landmarks.dat')"
   ],
   "outputs": [],
   "metadata": {}
  },
  {
   "cell_type": "code",
   "execution_count": 1,
   "source": [
    "def is_image(path):\n",
    "    print(path)\n",
    "    try:\n",
    "        extensions = path[-4:]\n",
    "        image_extensions = [\"png\", \"PNG\", \"jpg\", \"JPG\"]\n",
    "\n",
    "        if extensions[1:] in image_extensions:\n",
    "            return True \n",
    "        else:\n",
    "            print(\"Please input image file. png / jpg\")\n",
    "            return False \n",
    "    except: \n",
    "        return False "
   ],
   "outputs": [],
   "metadata": {}
  },
  {
   "cell_type": "code",
   "execution_count": 2,
   "source": [
    "is_image('asd/1.jpg')"
   ],
   "outputs": [
    {
     "output_type": "stream",
     "name": "stdout",
     "text": [
      "asd/1.jpg\n"
     ]
    },
    {
     "output_type": "execute_result",
     "data": {
      "text/plain": [
       "True"
      ]
     },
     "metadata": {},
     "execution_count": 2
    }
   ],
   "metadata": {}
  },
  {
   "cell_type": "code",
   "execution_count": 10,
   "source": [
    "shape "
   ],
   "outputs": [
    {
     "output_type": "execute_result",
     "data": {
      "text/plain": [
       "<dlib.full_object_detection at 0x7f77644f47f0>"
      ]
     },
     "metadata": {},
     "execution_count": 10
    }
   ],
   "metadata": {}
  },
  {
   "cell_type": "code",
   "execution_count": 11,
   "source": [
    "cv2.imshow('a',img)\n",
    "cv2.waitKey(0)\n",
    "cv2.destroyAllWindows()"
   ],
   "outputs": [],
   "metadata": {}
  },
  {
   "cell_type": "code",
   "execution_count": 12,
   "source": [
    "from easydict import EasyDict\n",
    "from utils.aux_functions import *\n",
    "args = EasyDict()\n",
    "args.code = None\n",
    "args.mask_type = 'cloth'\n",
    "args.predictor = predictor\n",
    "args.detector = detector\n",
    "args.verbose = False\n",
    "args.pattern = False\n",
    "args.color = False"
   ],
   "outputs": [],
   "metadata": {}
  },
  {
   "cell_type": "code",
   "execution_count": 13,
   "source": [
    "face_locations = args.detector(img, 1)\n",
    "face_location = face_locations[0]\n",
    "shape = args.predictor(img, face_location)\n",
    "shape = face_utils.shape_to_np(shape)\n",
    "face_landmarks = shape_to_landmarks(shape)\n",
    "face_location = rect_to_bb(face_location)\n",
    "six_points,angle = get_six_points(face_landmarks, img)"
   ],
   "outputs": [],
   "metadata": {}
  },
  {
   "cell_type": "code",
   "execution_count": 5,
   "source": [
    "face_landmark = face_landmarks\n",
    "left_eye = face_landmark[\"left_eye\"]   # return a center point of left eye\n",
    "right_eye = face_landmark[\"right_eye\"]\n",
    "left_eye_mid = np.mean(np.array(left_eye), axis=0)\n",
    "right_eye_mid = np.mean(np.array(right_eye), axis=0)\n",
    "eye_line_mid = (left_eye_mid + right_eye_mid) / 2"
   ],
   "outputs": [],
   "metadata": {}
  },
  {
   "cell_type": "code",
   "execution_count": 15,
   "source": [
    "face_landmarks"
   ],
   "outputs": [
    {
     "output_type": "execute_result",
     "data": {
      "text/plain": [
       "{'left_eyebrow': [(197, 395), (218, 376), (246, 373), (272, 381), (297, 394)],\n",
       " 'right_eyebrow': [(336, 395), (362, 384), (389, 380), (416, 385), (436, 402)],\n",
       " 'nose_bridge': [(317, 431), (317, 453), (317, 474), (316, 497)],\n",
       " 'nose_tip': [(283, 531), (298, 534), (314, 537), (330, 535), (347, 533)],\n",
       " 'left_eye': [(223, 437),\n",
       "  (237, 428),\n",
       "  (256, 429),\n",
       "  (275, 440),\n",
       "  (255, 444),\n",
       "  (237, 444)],\n",
       " 'right_eye': [(357, 442),\n",
       "  (375, 432),\n",
       "  (393, 433),\n",
       "  (409, 442),\n",
       "  (393, 449),\n",
       "  (375, 448)],\n",
       " 'top_lip': [(253, 598),\n",
       "  (274, 580),\n",
       "  (298, 569),\n",
       "  (314, 575),\n",
       "  (331, 570),\n",
       "  (353, 582),\n",
       "  (374, 600),\n",
       "  (263, 598),\n",
       "  (298, 591),\n",
       "  (314, 592),\n",
       "  (331, 592),\n",
       "  (364, 600)],\n",
       " 'bottom_lip': [(374, 600),\n",
       "  (352, 617),\n",
       "  (331, 624),\n",
       "  (313, 625),\n",
       "  (294, 623),\n",
       "  (273, 615),\n",
       "  (253, 598),\n",
       "  (364, 600),\n",
       "  (330, 599),\n",
       "  (313, 600),\n",
       "  (296, 598),\n",
       "  (263, 598)],\n",
       " 'chin': [(165, 446),\n",
       "  (164, 485),\n",
       "  (165, 526),\n",
       "  (171, 565),\n",
       "  (182, 604),\n",
       "  (201, 638),\n",
       "  (230, 665),\n",
       "  (265, 686),\n",
       "  (308, 693),\n",
       "  (349, 689),\n",
       "  (383, 670),\n",
       "  (414, 645),\n",
       "  (437, 614),\n",
       "  (454, 578),\n",
       "  (464, 541),\n",
       "  (470, 500),\n",
       "  (472, 461)]}"
      ]
     },
     "metadata": {},
     "execution_count": 15
    }
   ],
   "metadata": {}
  },
  {
   "cell_type": "code",
   "execution_count": 24,
   "source": [
    "img=img2.copy()\n",
    "cv2.namedWindow('a',cv2.WINDOW_NORMAL)\n",
    "for i in face_landmarks['top_lip']:\n",
    "    img = cv2.circle(img, (int(i[0]),int(i[1])), radius=4, color=(0, 0, 255), thickness=-1)\n",
    "    cv2.imshow('a',img)\n",
    "    k = cv2.waitKey(0)\n",
    "    if k==ord('q'):\n",
    "        break\n",
    "cv2.destroyAllWindows()\n",
    "    "
   ],
   "outputs": [],
   "metadata": {}
  },
  {
   "cell_type": "code",
   "execution_count": 18,
   "source": [],
   "outputs": [
    {
     "output_type": "execute_result",
     "data": {
      "text/plain": [
       "(364, 600)"
      ]
     },
     "metadata": {},
     "execution_count": 18
    }
   ],
   "metadata": {}
  },
  {
   "cell_type": "code",
   "execution_count": 20,
   "source": [
    "cv2.namedWindow('a',cv2.WINDOW_NORMAL)\n",
    "cv2.imshow('a',img)\n",
    "cv2.waitKey(0)\n",
    "cv2.destroyAllWindows()"
   ],
   "outputs": [],
   "metadata": {}
  },
  {
   "cell_type": "code",
   "execution_count": 55,
   "source": [
    "eye_line, perp_line, left_point, right_point, mid_point=get_line(face_landmarks,img,type='perp_line')"
   ],
   "outputs": [],
   "metadata": {}
  },
  {
   "cell_type": "code",
   "execution_count": 42,
   "source": [
    "i =mid_point"
   ],
   "outputs": [],
   "metadata": {}
  },
  {
   "cell_type": "code",
   "execution_count": 99,
   "source": [
    "face_landmark[\"left_eye\"]"
   ],
   "outputs": [
    {
     "output_type": "error",
     "ename": "NameError",
     "evalue": "name 'face_landmark' is not defined",
     "traceback": [
      "\u001b[0;31m---------------------------------------------------------------------------\u001b[0m",
      "\u001b[0;31mNameError\u001b[0m                                 Traceback (most recent call last)",
      "\u001b[0;32m<ipython-input-99-f367c2b9cf6d>\u001b[0m in \u001b[0;36m<module>\u001b[0;34m\u001b[0m\n\u001b[0;32m----> 1\u001b[0;31m \u001b[0mface_landmark\u001b[0m\u001b[0;34m[\u001b[0m\u001b[0;34m\"left_eye\"\u001b[0m\u001b[0;34m]\u001b[0m\u001b[0;34m\u001b[0m\u001b[0;34m\u001b[0m\u001b[0m\n\u001b[0m",
      "\u001b[0;31mNameError\u001b[0m: name 'face_landmark' is not defined"
     ]
    }
   ],
   "metadata": {}
  },
  {
   "cell_type": "code",
   "execution_count": 5,
   "source": [
    "cfg = read_cfg(config_filename=\"masks/masks.cfg\", mask_type='cloth', verbose=False)"
   ],
   "outputs": [],
   "metadata": {}
  },
  {
   "cell_type": "code",
   "execution_count": 6,
   "source": [
    "mask_line = np.float32(\n",
    "    [cfg.mask_a, cfg.mask_b, cfg.mask_c, cfg.mask_f, cfg.mask_e, cfg.mask_d]\n",
    ")"
   ],
   "outputs": [],
   "metadata": {}
  },
  {
   "cell_type": "code",
   "execution_count": 9,
   "source": [
    "mask_line"
   ],
   "outputs": [
    {
     "output_type": "execute_result",
     "data": {
      "text/plain": [
       "array([[122.,  90.],\n",
       "       [405.,   7.],\n",
       "       [686.,  79.],\n",
       "       [653., 311.],\n",
       "       [406., 509.],\n",
       "       [165., 323.]], dtype=float32)"
      ]
     },
     "metadata": {},
     "execution_count": 9
    }
   ],
   "metadata": {}
  },
  {
   "cell_type": "code",
   "execution_count": 10,
   "source": [
    "M, mask = cv2.findHomography(mask_line, six_points)"
   ],
   "outputs": [],
   "metadata": {}
  },
  {
   "cell_type": "code",
   "execution_count": 15,
   "source": [
    "from skimage import transform as trans\n",
    "tform = trans.SimilarityTransform() \n",
    "tform.estimate(mask_line,six_points)\n",
    "M = tform.params#[0:2,:]"
   ],
   "outputs": [],
   "metadata": {}
  },
  {
   "cell_type": "code",
   "execution_count": 11,
   "source": [
    "M"
   ],
   "outputs": [
    {
     "output_type": "execute_result",
     "data": {
      "text/plain": [
       "array([[5.72749687e-01, 1.75577171e-01, 8.55889554e+01],\n",
       "       [2.96772522e-02, 9.17940243e-01, 4.45921223e+02],\n",
       "       [1.50682085e-06, 6.44700250e-04, 1.00000000e+00]])"
      ]
     },
     "metadata": {},
     "execution_count": 11
    }
   ],
   "metadata": {}
  },
  {
   "cell_type": "code",
   "execution_count": 16,
   "source": [
    "tform.params"
   ],
   "outputs": [
    {
     "output_type": "execute_result",
     "data": {
      "text/plain": [
       "array([[ 4.95509010e-01, -2.43965473e-02,  1.17043634e+02],\n",
       "       [ 2.43965473e-02,  4.95509010e-01,  4.50597637e+02],\n",
       "       [ 0.00000000e+00,  0.00000000e+00,  1.00000000e+00]])"
      ]
     },
     "metadata": {},
     "execution_count": 16
    }
   ],
   "metadata": {}
  },
  {
   "cell_type": "code",
   "execution_count": 76,
   "source": [
    "mask_img = cv2.imread(cfg.template)"
   ],
   "outputs": [],
   "metadata": {}
  },
  {
   "cell_type": "code",
   "execution_count": 93,
   "source": [
    "out_img,mask = mask_face(img, face_location, six_points, angle, args, type=\"cloth\")"
   ],
   "outputs": [],
   "metadata": {}
  },
  {
   "cell_type": "code",
   "execution_count": 95,
   "source": [
    "cv2.namedWindow('a',cv2.WINDOW_NORMAL)\n",
    "cv2.imshow('a',out_img)\n",
    "cv2.waitKey(0)\n",
    "cv2.destroyAllWindows()"
   ],
   "outputs": [],
   "metadata": {}
  },
  {
   "cell_type": "code",
   "execution_count": 95,
   "source": [
    "np.unique(mask)"
   ],
   "outputs": [
    {
     "output_type": "execute_result",
     "data": {
      "text/plain": [
       "array([  0,   1,   2,   3,   5,   7,   8,   9,  13,  16,  17,  19,  21,\n",
       "        23,  28,  31,  32,  33,  35,  39,  40,  42,  44,  47,  49,  58,\n",
       "        59,  61,  64,  70,  72,  82,  85,  94, 102, 112, 113, 119, 121,\n",
       "       123, 126, 127, 129, 130, 131, 132, 133, 136, 154, 155, 162, 165,\n",
       "       168, 172, 174, 179, 190, 192, 198, 212, 218, 220, 221, 225, 230,\n",
       "       233, 235, 242, 243, 244, 246, 247, 249, 250, 251, 252, 253, 254,\n",
       "       255], dtype=uint8)"
      ]
     },
     "metadata": {},
     "execution_count": 95
    }
   ],
   "metadata": {}
  },
  {
   "cell_type": "code",
   "execution_count": 113,
   "source": [
    "mid_point"
   ],
   "outputs": [
    {
     "output_type": "execute_result",
     "data": {
      "text/plain": [
       "59.0"
      ]
     },
     "metadata": {},
     "execution_count": 113
    }
   ],
   "metadata": {}
  },
  {
   "cell_type": "code",
   "execution_count": 110,
   "source": [
    "img2 = img.copy()\n",
    "for i in face_landmarks['nose_bridge']:\n",
    "    img2 = cv2.circle(img2, (int(i[0]), int(i[1])), radius=1,color=(0,0,255),thickness=-1)\n"
   ],
   "outputs": [],
   "metadata": {}
  },
  {
   "cell_type": "code",
   "execution_count": 116,
   "source": [
    "a=get_line(face_landmark,img,type='nose_mid',debug=True)\n",
    "nose_tip\n",
    "bottom_lip\n",
    "perp_line\n",
    "nose_long"
   ],
   "outputs": [
    {
     "output_type": "error",
     "ename": "NameError",
     "evalue": "name 'nose_tip' is not defined",
     "traceback": [
      "\u001b[0;31m---------------------------------------------------------------------------\u001b[0m",
      "\u001b[0;31mNameError\u001b[0m                                 Traceback (most recent call last)",
      "\u001b[0;32m<ipython-input-116-e466d04c51c9>\u001b[0m in \u001b[0;36m<module>\u001b[0;34m\u001b[0m\n\u001b[1;32m      1\u001b[0m \u001b[0ma\u001b[0m\u001b[0;34m=\u001b[0m\u001b[0mget_line\u001b[0m\u001b[0;34m(\u001b[0m\u001b[0mface_landmark\u001b[0m\u001b[0;34m,\u001b[0m\u001b[0mimg\u001b[0m\u001b[0;34m,\u001b[0m\u001b[0mtype\u001b[0m\u001b[0;34m=\u001b[0m\u001b[0;34m'nose_mid'\u001b[0m\u001b[0;34m,\u001b[0m\u001b[0mdebug\u001b[0m\u001b[0;34m=\u001b[0m\u001b[0;32mTrue\u001b[0m\u001b[0;34m)\u001b[0m\u001b[0;34m\u001b[0m\u001b[0;34m\u001b[0m\u001b[0m\n\u001b[0;32m----> 2\u001b[0;31m \u001b[0mnose_tip\u001b[0m\u001b[0;34m\u001b[0m\u001b[0;34m\u001b[0m\u001b[0m\n\u001b[0m\u001b[1;32m      3\u001b[0m \u001b[0mbottom_lip\u001b[0m\u001b[0;34m\u001b[0m\u001b[0;34m\u001b[0m\u001b[0m\n\u001b[1;32m      4\u001b[0m \u001b[0mperp_line\u001b[0m\u001b[0;34m\u001b[0m\u001b[0;34m\u001b[0m\u001b[0m\n\u001b[1;32m      5\u001b[0m \u001b[0mnose_long\u001b[0m\u001b[0;34m\u001b[0m\u001b[0;34m\u001b[0m\u001b[0m\n",
      "\u001b[0;31mNameError\u001b[0m: name 'nose_tip' is not defined"
     ]
    }
   ],
   "metadata": {}
  },
  {
   "cell_type": "code",
   "execution_count": 120,
   "source": [
    "a=get_line(face_landmark,img,type='nose_long',debug=True)"
   ],
   "outputs": [],
   "metadata": {}
  },
  {
   "cell_type": "code",
   "execution_count": 7,
   "source": [],
   "outputs": [],
   "metadata": {}
  },
  {
   "cell_type": "code",
   "execution_count": 5,
   "source": [
    "six_points"
   ],
   "outputs": [
    {
     "output_type": "execute_result",
     "data": {
      "text/plain": [
       "array([[164.37985, 500.574  ],\n",
       "       [316.5    , 464.     ],\n",
       "       [468.61133, 509.48923],\n",
       "       [426.4252 , 628.253  ],\n",
       "       [310.01236, 692.92554],\n",
       "       [191.70949, 621.3749 ]], dtype=float32)"
      ]
     },
     "metadata": {},
     "execution_count": 5
    }
   ],
   "metadata": {}
  },
  {
   "cell_type": "code",
   "execution_count": 19,
   "source": [
    "out_img,mask = mask_face(img, face_location, six_points, angle, args, type=\"cloth\")"
   ],
   "outputs": [],
   "metadata": {}
  },
  {
   "cell_type": "code",
   "execution_count": 18,
   "source": [
    "six_points[0][1] = 500\n",
    "six_points[1][1] = 464+180#80\n",
    "six_points[2][1] = 509+0#60\n",
    "six_points[3][1] = 628+0#80\n",
    "six_points[4][1] = 692+0#80\n",
    "six_points[5][1] = 621.92554"
   ],
   "outputs": [],
   "metadata": {}
  },
  {
   "cell_type": "code",
   "execution_count": 8,
   "source": [
    "six_points"
   ],
   "outputs": [
    {
     "output_type": "execute_result",
     "data": {
      "text/plain": [
       "array([[164.37985, 500.574  ],\n",
       "       [316.5    , 464.     ],\n",
       "       [468.61133, 509.48923],\n",
       "       [426.4252 , 628.253  ],\n",
       "       [310.01236, 692.92554],\n",
       "       [191.70949, 621.3749 ]], dtype=float32)"
      ]
     },
     "metadata": {},
     "execution_count": 8
    }
   ],
   "metadata": {}
  },
  {
   "cell_type": "code",
   "execution_count": 13,
   "source": [
    "import cv2 \n",
    "import numpy as np\n",
    "img = cv2.imread('chinh.jpg', cv2.IMREAD_COLOR)\n",
    "mask = cv2.imread('masks/templates/cloth.png', cv2.IMREAD_COLOR)"
   ],
   "outputs": [],
   "metadata": {}
  },
  {
   "cell_type": "code",
   "execution_count": 9,
   "source": [
    "mask_inv = cv2.bitwise_not(mask)"
   ],
   "outputs": [],
   "metadata": {}
  },
  {
   "cell_type": "code",
   "execution_count": 15,
   "source": [
    "mask_inv.shape"
   ],
   "outputs": [
    {
     "output_type": "execute_result",
     "data": {
      "text/plain": [
       "(533, 800, 3)"
      ]
     },
     "metadata": {},
     "execution_count": 15
    }
   ],
   "metadata": {}
  },
  {
   "cell_type": "code",
   "execution_count": 11,
   "source": [
    "cv2.namedWindow('a', cv2.WINDOW_NORMAL)\n",
    "cv2.imshow('a',mask_inv)\n",
    "cv2.waitKey(0)\n",
    "cv2.destroyAllWindows()"
   ],
   "outputs": [],
   "metadata": {}
  },
  {
   "cell_type": "code",
   "execution_count": 12,
   "source": [
    "mask.shape"
   ],
   "outputs": [
    {
     "output_type": "execute_result",
     "data": {
      "text/plain": [
       "(533, 800, 3)"
      ]
     },
     "metadata": {},
     "execution_count": 12
    }
   ],
   "metadata": {}
  },
  {
   "cell_type": "code",
   "execution_count": 14,
   "source": [
    "img.shape"
   ],
   "outputs": [
    {
     "output_type": "execute_result",
     "data": {
      "text/plain": [
       "(960, 719, 3)"
      ]
     },
     "metadata": {},
     "execution_count": 14
    }
   ],
   "metadata": {}
  },
  {
   "cell_type": "code",
   "execution_count": null,
   "source": [],
   "outputs": [],
   "metadata": {}
  }
 ]
}